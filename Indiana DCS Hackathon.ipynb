{
 "cells": [
  {
   "cell_type": "code",
   "execution_count": 3,
   "metadata": {},
   "outputs": [],
   "source": [
    "import pandas as pd\n",
    "import matplotlib.pyplot as plt\n",
    "import seaborn as sns\n",
    "from sklearn.cluster import KMeans\n",
    "import seaborn as sns"
   ]
  },
  {
   "cell_type": "code",
   "execution_count": 4,
   "metadata": {},
   "outputs": [],
   "source": [
    "dcs = pd.read_csv('/Users/jaclynfink/Downloads/Indiana DCS.csv')"
   ]
  },
  {
   "cell_type": "code",
   "execution_count": 5,
   "metadata": {},
   "outputs": [
    {
     "data": {
      "text/plain": [
       "Index(['REF_ID', 'REPORT_DATE_RAW', 'DATETIME', 'COUNTY', 'DECISION',\n",
       "       'RESPONSE_TIME', 'ASM_MALTREATMENT', 'ASSESSMENT_DECISION',\n",
       "       'SUBSTANTIATED', 'PARTICIPANT', 'AGE'],\n",
       "      dtype='object')"
      ]
     },
     "execution_count": 5,
     "metadata": {},
     "output_type": "execute_result"
    }
   ],
   "source": [
    "#All columns in dataset\n",
    "dcs.columns"
   ]
  },
  {
   "cell_type": "code",
   "execution_count": 6,
   "metadata": {},
   "outputs": [
    {
     "data": {
      "text/plain": [
       "(402070, 11)"
      ]
     },
     "execution_count": 6,
     "metadata": {},
     "output_type": "execute_result"
    }
   ],
   "source": [
    "dcs.shape"
   ]
  },
  {
   "cell_type": "code",
   "execution_count": 7,
   "metadata": {},
   "outputs": [
    {
     "data": {
      "text/plain": [
       "(401981, 11)"
      ]
     },
     "execution_count": 7,
     "metadata": {},
     "output_type": "execute_result"
    }
   ],
   "source": [
    "#Drop rows where there are duplicates across all columns. Keep the first instance\n",
    "dcs = dcs.drop_duplicates()\n",
    "dcs.shape"
   ]
  },
  {
   "cell_type": "code",
   "execution_count": 8,
   "metadata": {},
   "outputs": [
    {
     "data": {
      "text/plain": [
       "REF_ID                     0\n",
       "REPORT_DATE_RAW            0\n",
       "DATETIME                   0\n",
       "COUNTY                     0\n",
       "DECISION                   0\n",
       "RESPONSE_TIME              0\n",
       "ASM_MALTREATMENT       19229\n",
       "ASSESSMENT_DECISION        0\n",
       "SUBSTANTIATED              0\n",
       "PARTICIPANT                0\n",
       "AGE                        0\n",
       "dtype: int64"
      ]
     },
     "execution_count": 8,
     "metadata": {},
     "output_type": "execute_result"
    }
   ],
   "source": [
    "#Return number of null values in each column\n",
    "dcs.isnull().sum(axis = 0)"
   ]
  },
  {
   "cell_type": "code",
   "execution_count": 9,
   "metadata": {},
   "outputs": [],
   "source": [
    "#Filter out adults from dataset\n",
    "dcs = dcs[dcs['AGE'] < 21]"
   ]
  },
  {
   "cell_type": "markdown",
   "metadata": {},
   "source": [
    "# Exploring unique values in columns"
   ]
  },
  {
   "cell_type": "code",
   "execution_count": 10,
   "metadata": {},
   "outputs": [
    {
     "data": {
      "text/plain": [
       "24 hours    233088\n",
       "5 days      124893\n",
       "2 hours      30476\n",
       "1 hour       13477\n",
       "Name: RESPONSE_TIME, dtype: int64"
      ]
     },
     "execution_count": 10,
     "metadata": {},
     "output_type": "execute_result"
    }
   ],
   "source": [
    "dcs['RESPONSE_TIME'].value_counts()"
   ]
  },
  {
   "cell_type": "code",
   "execution_count": 11,
   "metadata": {},
   "outputs": [
    {
     "data": {
      "text/plain": [
       "neglect                                                         254955\n",
       "neglect,physical abuse                                           60349\n",
       "physical abuse                                                   20913\n",
       "sexual abuse                                                     18679\n",
       "neglect,sexual abuse                                             17087\n",
       "neglect,physical abuse,sexual abuse                               7948\n",
       "physical abuse,sexual abuse                                       1700\n",
       "human/sexual trafficking,neglect,sexual abuse                      456\n",
       "human/sexual trafficking,sexual abuse                              246\n",
       "human/sexual trafficking,neglect,physical abuse,sexual abuse       241\n",
       "human/sexual trafficking,neglect                                    81\n",
       "human/sexual trafficking                                            34\n",
       "human/sexual trafficking,physical abuse,sexual abuse                25\n",
       "human/sexual trafficking,neglect,physical abuse                     18\n",
       "human/sexual trafficking,physical abuse                              5\n",
       "Name: ASM_MALTREATMENT, dtype: int64"
      ]
     },
     "execution_count": 11,
     "metadata": {},
     "output_type": "execute_result"
    }
   ],
   "source": [
    "# Value counts for each type of maltreatment\n",
    "dcs['ASM_MALTREATMENT'].value_counts()"
   ]
  },
  {
   "cell_type": "code",
   "execution_count": 12,
   "metadata": {},
   "outputs": [
    {
     "data": {
      "text/plain": [
       "1177646816    32\n",
       "119600451     31\n",
       "1322048963    30\n",
       "859782401     30\n",
       "1617524825    29\n",
       "              ..\n",
       "378247143      1\n",
       "1975146463     1\n",
       "1602387930     1\n",
       "112334807      1\n",
       "1050148864     1\n",
       "Name: REF_ID, Length: 215633, dtype: int64"
      ]
     },
     "execution_count": 12,
     "metadata": {},
     "output_type": "execute_result"
    }
   ],
   "source": [
    "dcs['REF_ID'].value_counts()"
   ]
  },
  {
   "cell_type": "code",
   "execution_count": 13,
   "metadata": {},
   "outputs": [
    {
     "data": {
      "text/plain": [
       "Screen In    401934\n",
       "Name: DECISION, dtype: int64"
      ]
     },
     "execution_count": 13,
     "metadata": {},
     "output_type": "execute_result"
    }
   ],
   "source": [
    "dcs['DECISION'].value_counts()"
   ]
  },
  {
   "cell_type": "code",
   "execution_count": 14,
   "metadata": {},
   "outputs": [
    {
     "data": {
      "text/plain": [
       "accepted                 384055\n",
       "withdrawn                 12699\n",
       "active                     3699\n",
       "supervisor_review          1354\n",
       "central_office_review       119\n",
       "reopened                      8\n",
       "Name: ASSESSMENT_DECISION, dtype: int64"
      ]
     },
     "execution_count": 14,
     "metadata": {},
     "output_type": "execute_result"
    }
   ],
   "source": [
    "dcs['ASSESSMENT_DECISION'].value_counts()"
   ]
  },
  {
   "cell_type": "code",
   "execution_count": 15,
   "metadata": {},
   "outputs": [
    {
     "data": {
      "text/plain": [
       "Victim    401934\n",
       "Name: PARTICIPANT, dtype: int64"
      ]
     },
     "execution_count": 15,
     "metadata": {},
     "output_type": "execute_result"
    }
   ],
   "source": [
    "dcs['PARTICIPANT'].value_counts()"
   ]
  },
  {
   "cell_type": "markdown",
   "metadata": {},
   "source": [
    "# Raw data Visualizations"
   ]
  },
  {
   "cell_type": "code",
   "execution_count": 16,
   "metadata": {
    "scrolled": true
   },
   "outputs": [
    {
     "data": {
      "text/plain": [
       "<AxesSubplot:>"
      ]
     },
     "execution_count": 16,
     "metadata": {},
     "output_type": "execute_result"
    },
    {
     "data": {
      "image/png": "[encoded data removed]",
      "text/plain": [
       "<Figure size 432x288 with 1 Axes>"
      ]
     },
     "metadata": {
      "needs_background": "light"
     },
     "output_type": "display_data"
    }
   ],
   "source": [
    "#Count of cases per age\n",
    "dcs['AGE'].value_counts().sort_index().plot(kind='bar')"
   ]
  },
  {
   "cell_type": "markdown",
   "metadata": {},
   "source": [
    "# Exploded df analysis - splitting ASM_MALTREATMENT column"
   ]
  },
  {
   "cell_type": "code",
   "execution_count": 127,
   "metadata": {},
   "outputs": [],
   "source": [
    "# ** ADD VISUALIZATION FOR NUMBER OF UNIQUE MALTREATMENTS"
   ]
  },
  {
   "cell_type": "code",
   "execution_count": 17,
   "metadata": {},
   "outputs": [
    {
     "data": {
      "text/plain": [
       "(499019, 11)"
      ]
     },
     "execution_count": 17,
     "metadata": {},
     "output_type": "execute_result"
    }
   ],
   "source": [
    "# split the strings into multiple rows\n",
    "exploded_df = dcs.assign(ASM_MALTREATMENT=dcs.ASM_MALTREATMENT.str.split(\",\")).explode('ASM_MALTREATMENT')\n",
    "exploded_df.shape"
   ]
  },
  {
   "cell_type": "code",
   "execution_count": 18,
   "metadata": {},
   "outputs": [
    {
     "data": {
      "text/plain": [
       "<AxesSubplot:>"
      ]
     },
     "execution_count": 18,
     "metadata": {},
     "output_type": "execute_result"
    },
    {
     "data": {
      "image/png": "[encoded data removed]",
      "text/plain": [
       "<Figure size 432x288 with 1 Axes>"
      ]
     },
     "metadata": {
      "needs_background": "light"
     },
     "output_type": "display_data"
    }
   ],
   "source": [
    "#Count of cases per maltreatment type (child REF_ID can be represented multiple times)\n",
    "exploded_df['ASM_MALTREATMENT'].value_counts(ascending=True).plot(kind='barh')"
   ]
  },
  {
   "cell_type": "code",
   "execution_count": 19,
   "metadata": {},
   "outputs": [
    {
     "data": {
      "text/plain": [
       "human/sexual trafficking      1106\n",
       "sexual abuse                 46382\n",
       "physical abuse               91199\n",
       "neglect                     341135\n",
       "Name: ASM_MALTREATMENT, dtype: int64"
      ]
     },
     "execution_count": 19,
     "metadata": {},
     "output_type": "execute_result"
    }
   ],
   "source": [
    "exploded_df['ASM_MALTREATMENT'].value_counts(ascending=True)"
   ]
  },
  {
   "cell_type": "code",
   "execution_count": 20,
   "metadata": {},
   "outputs": [
    {
     "data": {
      "text/plain": [
       "<AxesSubplot:xlabel='SUBSTANTIATED'>"
      ]
     },
     "execution_count": 20,
     "metadata": {},
     "output_type": "execute_result"
    },
    {
     "data": {
      "image/png": "[encoded data removed]",
      "text/plain": [
       "<Figure size 432x288 with 1 Axes>"
      ]
     },
     "metadata": {
      "needs_background": "light"
     },
     "output_type": "display_data"
    }
   ],
   "source": [
    "# Counts of substantiation based on type of maltreatment (child REF_ID can be represented multiple times)\n",
    "exploded_df.groupby(['SUBSTANTIATED','ASM_MALTREATMENT']).size().unstack().plot(kind = 'bar', stacked=True)"
   ]
  },
  {
   "cell_type": "code",
   "execution_count": 21,
   "metadata": {},
   "outputs": [
    {
     "data": {
      "text/plain": [
       "<AxesSubplot:ylabel='ASM_MALTREATMENT'>"
      ]
     },
     "execution_count": 21,
     "metadata": {},
     "output_type": "execute_result"
    },
    {
     "data": {
      "image/png": "[encoded data removed]",
      "text/plain": [
       "<Figure size 432x288 with 1 Axes>"
      ]
     },
     "metadata": {
      "needs_background": "light"
     },
     "output_type": "display_data"
    }
   ],
   "source": [
    "# Counts of substantiation based on type of maltreatment (child REF_ID can be represented multiple times)\n",
    "exploded_df.groupby(['ASM_MALTREATMENT','SUBSTANTIATED']).size().unstack().plot(kind = 'barh', stacked=True)"
   ]
  },
  {
   "cell_type": "code",
   "execution_count": 22,
   "metadata": {},
   "outputs": [
    {
     "data": {
      "text/html": [
       "<div>\n",
       "<style scoped>\n",
       "    .dataframe tbody tr th:only-of-type {\n",
       "        vertical-align: middle;\n",
       "    }\n",
       "\n",
       "    .dataframe tbody tr th {\n",
       "        vertical-align: top;\n",
       "    }\n",
       "\n",
       "    .dataframe thead th {\n",
       "        text-align: right;\n",
       "    }\n",
       "</style>\n",
       "<table border=\"1\" class=\"dataframe\">\n",
       "  <thead>\n",
       "    <tr style=\"text-align: right;\">\n",
       "      <th>SUBSTANTIATED</th>\n",
       "      <th>0</th>\n",
       "      <th>1</th>\n",
       "    </tr>\n",
       "    <tr>\n",
       "      <th>ASM_MALTREATMENT</th>\n",
       "      <th></th>\n",
       "      <th></th>\n",
       "    </tr>\n",
       "  </thead>\n",
       "  <tbody>\n",
       "    <tr>\n",
       "      <th>human/sexual trafficking</th>\n",
       "      <td>940</td>\n",
       "      <td>166</td>\n",
       "    </tr>\n",
       "    <tr>\n",
       "      <th>neglect</th>\n",
       "      <td>293713</td>\n",
       "      <td>47422</td>\n",
       "    </tr>\n",
       "    <tr>\n",
       "      <th>physical abuse</th>\n",
       "      <td>81149</td>\n",
       "      <td>10050</td>\n",
       "    </tr>\n",
       "    <tr>\n",
       "      <th>sexual abuse</th>\n",
       "      <td>39359</td>\n",
       "      <td>7023</td>\n",
       "    </tr>\n",
       "  </tbody>\n",
       "</table>\n",
       "</div>"
      ],
      "text/plain": [
       "SUBSTANTIATED                  0      1\n",
       "ASM_MALTREATMENT                       \n",
       "human/sexual trafficking     940    166\n",
       "neglect                   293713  47422\n",
       "physical abuse             81149  10050\n",
       "sexual abuse               39359   7023"
      ]
     },
     "execution_count": 22,
     "metadata": {},
     "output_type": "execute_result"
    }
   ],
   "source": [
    "exploded_df.groupby(['ASM_MALTREATMENT','SUBSTANTIATED']).size().unstack()"
   ]
  },
  {
   "cell_type": "code",
   "execution_count": 23,
   "metadata": {},
   "outputs": [
    {
     "name": "stdout",
     "output_type": "stream",
     "text": [
      "17.7 % of human/sexual trafficking cases are substantiated\n",
      "16.15 % of neglect cases are substantiated\n",
      "12.38 % of physical abuse cases are substantiated\n",
      "17.87 % of sexual abuse cases are substantiated\n"
     ]
    }
   ],
   "source": [
    "print(round((165/932)*100, 2), \"% of human/sexual trafficking cases are substantiated\")\n",
    "print(round((47400/293441)*100,2), \"% of neglect cases are substantiated\")\n",
    "print(round((10039/81063)*100,2), \"% of physical abuse cases are substantiated\")\n",
    "print(round((7020/39282)*100,2), \"% of sexual abuse cases are substantiated\")"
   ]
  },
  {
   "cell_type": "code",
   "execution_count": 24,
   "metadata": {},
   "outputs": [
    {
     "data": {
      "text/html": [
       "<div>\n",
       "<style scoped>\n",
       "    .dataframe tbody tr th:only-of-type {\n",
       "        vertical-align: middle;\n",
       "    }\n",
       "\n",
       "    .dataframe tbody tr th {\n",
       "        vertical-align: top;\n",
       "    }\n",
       "\n",
       "    .dataframe thead th {\n",
       "        text-align: right;\n",
       "    }\n",
       "</style>\n",
       "<table border=\"1\" class=\"dataframe\">\n",
       "  <thead>\n",
       "    <tr style=\"text-align: right;\">\n",
       "      <th></th>\n",
       "      <th>SUBSTANTIATED</th>\n",
       "      <th>0</th>\n",
       "      <th>1</th>\n",
       "    </tr>\n",
       "    <tr>\n",
       "      <th>AGE</th>\n",
       "      <th>ASM_MALTREATMENT</th>\n",
       "      <th></th>\n",
       "      <th></th>\n",
       "    </tr>\n",
       "  </thead>\n",
       "  <tbody>\n",
       "    <tr>\n",
       "      <th rowspan=\"4\" valign=\"top\">0</th>\n",
       "      <th>human/sexual trafficking</th>\n",
       "      <td>108.0</td>\n",
       "      <td>24.0</td>\n",
       "    </tr>\n",
       "    <tr>\n",
       "      <th>neglect</th>\n",
       "      <td>59450.0</td>\n",
       "      <td>13801.0</td>\n",
       "    </tr>\n",
       "    <tr>\n",
       "      <th>physical abuse</th>\n",
       "      <td>8578.0</td>\n",
       "      <td>1561.0</td>\n",
       "    </tr>\n",
       "    <tr>\n",
       "      <th>sexual abuse</th>\n",
       "      <td>2498.0</td>\n",
       "      <td>403.0</td>\n",
       "    </tr>\n",
       "    <tr>\n",
       "      <th>1</th>\n",
       "      <th>human/sexual trafficking</th>\n",
       "      <td>5.0</td>\n",
       "      <td>3.0</td>\n",
       "    </tr>\n",
       "    <tr>\n",
       "      <th>...</th>\n",
       "      <th>...</th>\n",
       "      <td>...</td>\n",
       "      <td>...</td>\n",
       "    </tr>\n",
       "    <tr>\n",
       "      <th rowspan=\"2\" valign=\"top\">18</th>\n",
       "      <th>physical abuse</th>\n",
       "      <td>86.0</td>\n",
       "      <td>11.0</td>\n",
       "    </tr>\n",
       "    <tr>\n",
       "      <th>sexual abuse</th>\n",
       "      <td>76.0</td>\n",
       "      <td>3.0</td>\n",
       "    </tr>\n",
       "    <tr>\n",
       "      <th>19</th>\n",
       "      <th>neglect</th>\n",
       "      <td>2.0</td>\n",
       "      <td>NaN</td>\n",
       "    </tr>\n",
       "    <tr>\n",
       "      <th rowspan=\"2\" valign=\"top\">20</th>\n",
       "      <th>neglect</th>\n",
       "      <td>1.0</td>\n",
       "      <td>NaN</td>\n",
       "    </tr>\n",
       "    <tr>\n",
       "      <th>sexual abuse</th>\n",
       "      <td>1.0</td>\n",
       "      <td>NaN</td>\n",
       "    </tr>\n",
       "  </tbody>\n",
       "</table>\n",
       "<p>79 rows × 2 columns</p>\n",
       "</div>"
      ],
      "text/plain": [
       "SUBSTANTIATED                       0        1\n",
       "AGE ASM_MALTREATMENT                          \n",
       "0   human/sexual trafficking    108.0     24.0\n",
       "    neglect                   59450.0  13801.0\n",
       "    physical abuse             8578.0   1561.0\n",
       "    sexual abuse               2498.0    403.0\n",
       "1   human/sexual trafficking      5.0      3.0\n",
       "...                               ...      ...\n",
       "18  physical abuse               86.0     11.0\n",
       "    sexual abuse                 76.0      3.0\n",
       "19  neglect                       2.0      NaN\n",
       "20  neglect                       1.0      NaN\n",
       "    sexual abuse                  1.0      NaN\n",
       "\n",
       "[79 rows x 2 columns]"
      ]
     },
     "execution_count": 24,
     "metadata": {},
     "output_type": "execute_result"
    }
   ],
   "source": [
    "exploded_df.groupby(['AGE','ASM_MALTREATMENT','SUBSTANTIATED']).size().unstack()"
   ]
  },
  {
   "cell_type": "code",
   "execution_count": 25,
   "metadata": {},
   "outputs": [],
   "source": [
    "#Create age bins\n",
    "#exploded_df['age_bins'] = pd.cut(x=exploded_df['AGE'], bins=[0, 4, 8, 12, 16, 20], include_lowest =True)\n",
    "#exploded_df.groupby(['age_bins','SUBSTANTIATED']).size().unstack().plot.bar(stacked=True)"
   ]
  },
  {
   "cell_type": "code",
   "execution_count": 26,
   "metadata": {},
   "outputs": [],
   "source": [
    "#exploded_df.groupby(['age_bins','SUBSTANTIATED']).size().unstack()"
   ]
  },
  {
   "cell_type": "code",
   "execution_count": 27,
   "metadata": {},
   "outputs": [
    {
     "name": "stdout",
     "output_type": "stream",
     "text": [
      "19.69 % of 0-3 y/o child cases are substantiated\n",
      "13.54 % of 4-7 y/o child cases are substantiated\n",
      "12.76 % of 8-11 y/o child cases are substantiated\n",
      "13.11 % of 12-15 cases are substantiated\n",
      "11.07 % of 16-20 cases are substantiated\n"
     ]
    }
   ],
   "source": [
    "print(round((30516/154944)*100, 2), \"% of 0-3 y/o child cases are substantiated\")\n",
    "print(round((12640/93369)*100,2), \"% of 4-7 y/o child cases are substantiated\")\n",
    "print(round((11157/87436)*100,2), \"% of 8-11 y/o child cases are substantiated\")\n",
    "print(round((10844/82687)*100,2), \"% of 12-15 cases are substantiated\")\n",
    "print(round((1538/13888)*100,2), \"% of 16-20 cases are substantiated\")"
   ]
  },
  {
   "cell_type": "markdown",
   "metadata": {},
   "source": [
    "# K-means Clustering"
   ]
  },
  {
   "cell_type": "code",
   "execution_count": 28,
   "metadata": {},
   "outputs": [
    {
     "data": {
      "text/plain": [
       "(401934, 12)"
      ]
     },
     "execution_count": 28,
     "metadata": {},
     "output_type": "execute_result"
    }
   ],
   "source": [
    "# SCALE variables -- https://s3.amazonaws.com/assets.datacamp.com/production/course_10628/slides/chapter3.pdf \n",
    "# Normalize age column\n",
    "# https://www.youtube.com/watch?v=EItlUEPCIzM\n",
    "\n",
    "#Add column NUM_CASES for number of times a particular REF_ID is reported\n",
    "dcs['NUM_CASES'] = dcs.groupby('REF_ID')['REF_ID'].transform('count')\n",
    "\n",
    "\n",
    "dcs.shape"
   ]
  },
  {
   "cell_type": "code",
   "execution_count": 29,
   "metadata": {},
   "outputs": [
    {
     "data": {
      "text/plain": [
       "(215633, 12)"
      ]
     },
     "execution_count": 29,
     "metadata": {},
     "output_type": "execute_result"
    }
   ],
   "source": [
    "#De-dupe REF_ID\n",
    "dedupe_dcs = dcs.drop_duplicates(subset='REF_ID', keep='first')\n",
    "dedupe_dcs.shape"
   ]
  },
  {
   "cell_type": "code",
   "execution_count": 30,
   "metadata": {},
   "outputs": [
    {
     "data": {
      "text/plain": [
       "<matplotlib.collections.PathCollection at 0x7ff91dab5c10>"
      ]
     },
     "execution_count": 30,
     "metadata": {},
     "output_type": "execute_result"
    },
    {
     "data": {
      "image/png": "[encoded data removed]",
      "text/plain": [
       "<Figure size 432x288 with 1 Axes>"
      ]
     },
     "metadata": {
      "needs_background": "light"
     },
     "output_type": "display_data"
    }
   ],
   "source": [
    "plt.scatter(dedupe_dcs['AGE'], dedupe_dcs['NUM_CASES'])"
   ]
  },
  {
   "cell_type": "code",
   "execution_count": 109,
   "metadata": {},
   "outputs": [],
   "source": [
    "c = dedupe_dcs[['AGE', 'NUM_CASES']]\n",
    "kmeans = KMeans(n_clusters=2, n_init=20)"
   ]
  },
  {
   "cell_type": "code",
   "execution_count": 110,
   "metadata": {},
   "outputs": [
    {
     "data": {
      "text/plain": [
       "array([1, 0, 1, ..., 1, 1, 0], dtype=int32)"
      ]
     },
     "execution_count": 110,
     "metadata": {},
     "output_type": "execute_result"
    }
   ],
   "source": [
    "y_predicted = kmeans.fit_predict(dedupe_dcs[['NUM_CASES', 'AGE']])\n",
    "y_predicted"
   ]
  },
  {
   "cell_type": "code",
   "execution_count": 111,
   "metadata": {},
   "outputs": [
    {
     "name": "stderr",
     "output_type": "stream",
     "text": [
      "/Users/jaclynfink/opt/anaconda3/lib/python3.7/site-packages/ipykernel_launcher.py:1: SettingWithCopyWarning: \n",
      "A value is trying to be set on a copy of a slice from a DataFrame.\n",
      "Try using .loc[row_indexer,col_indexer] = value instead\n",
      "\n",
      "See the caveats in the documentation: https://pandas.pydata.org/pandas-docs/stable/user_guide/indexing.html#returning-a-view-versus-a-copy\n",
      "  \"\"\"Entry point for launching an IPython kernel.\n"
     ]
    },
    {
     "data": {
      "text/html": [
       "<div>\n",
       "<style scoped>\n",
       "    .dataframe tbody tr th:only-of-type {\n",
       "        vertical-align: middle;\n",
       "    }\n",
       "\n",
       "    .dataframe tbody tr th {\n",
       "        vertical-align: top;\n",
       "    }\n",
       "\n",
       "    .dataframe thead th {\n",
       "        text-align: right;\n",
       "    }\n",
       "</style>\n",
       "<table border=\"1\" class=\"dataframe\">\n",
       "  <thead>\n",
       "    <tr style=\"text-align: right;\">\n",
       "      <th></th>\n",
       "      <th>REF_ID</th>\n",
       "      <th>REPORT_DATE_RAW</th>\n",
       "      <th>DATETIME</th>\n",
       "      <th>COUNTY</th>\n",
       "      <th>DECISION</th>\n",
       "      <th>RESPONSE_TIME</th>\n",
       "      <th>ASM_MALTREATMENT</th>\n",
       "      <th>ASSESSMENT_DECISION</th>\n",
       "      <th>SUBSTANTIATED</th>\n",
       "      <th>PARTICIPANT</th>\n",
       "      <th>AGE</th>\n",
       "      <th>NUM_CASES</th>\n",
       "      <th>cluster</th>\n",
       "    </tr>\n",
       "  </thead>\n",
       "  <tbody>\n",
       "    <tr>\n",
       "      <th>0</th>\n",
       "      <td>1406424407</td>\n",
       "      <td>1/1/19 0:32</td>\n",
       "      <td>0019-01-01 00:32:00.000</td>\n",
       "      <td>Kosciusko</td>\n",
       "      <td>Screen In</td>\n",
       "      <td>5 days</td>\n",
       "      <td>neglect</td>\n",
       "      <td>withdrawn</td>\n",
       "      <td>0</td>\n",
       "      <td>Victim</td>\n",
       "      <td>11</td>\n",
       "      <td>3</td>\n",
       "      <td>1</td>\n",
       "    </tr>\n",
       "    <tr>\n",
       "      <th>1</th>\n",
       "      <td>490485216</td>\n",
       "      <td>1/1/19 7:16</td>\n",
       "      <td>0019-01-01 07:16:00.000</td>\n",
       "      <td>Lake</td>\n",
       "      <td>Screen In</td>\n",
       "      <td>24 hours</td>\n",
       "      <td>neglect,physical abuse</td>\n",
       "      <td>accepted</td>\n",
       "      <td>1</td>\n",
       "      <td>Victim</td>\n",
       "      <td>0</td>\n",
       "      <td>1</td>\n",
       "      <td>0</td>\n",
       "    </tr>\n",
       "    <tr>\n",
       "      <th>2</th>\n",
       "      <td>1773822066</td>\n",
       "      <td>1/1/19 11:34</td>\n",
       "      <td>0019-01-01 11:34:00.000</td>\n",
       "      <td>Marion</td>\n",
       "      <td>Screen In</td>\n",
       "      <td>24 hours</td>\n",
       "      <td>neglect</td>\n",
       "      <td>accepted</td>\n",
       "      <td>0</td>\n",
       "      <td>Victim</td>\n",
       "      <td>9</td>\n",
       "      <td>1</td>\n",
       "      <td>1</td>\n",
       "    </tr>\n",
       "    <tr>\n",
       "      <th>3</th>\n",
       "      <td>9124632</td>\n",
       "      <td>1/1/19 13:22</td>\n",
       "      <td>0019-01-01 13:22:00.000</td>\n",
       "      <td>Lake</td>\n",
       "      <td>Screen In</td>\n",
       "      <td>24 hours</td>\n",
       "      <td>neglect</td>\n",
       "      <td>accepted</td>\n",
       "      <td>0</td>\n",
       "      <td>Victim</td>\n",
       "      <td>5</td>\n",
       "      <td>3</td>\n",
       "      <td>0</td>\n",
       "    </tr>\n",
       "    <tr>\n",
       "      <th>4</th>\n",
       "      <td>2067805478</td>\n",
       "      <td>1/1/19 18:41</td>\n",
       "      <td>0019-01-01 18:41:00.000</td>\n",
       "      <td>Ripley</td>\n",
       "      <td>Screen In</td>\n",
       "      <td>24 hours</td>\n",
       "      <td>neglect,physical abuse</td>\n",
       "      <td>accepted</td>\n",
       "      <td>0</td>\n",
       "      <td>Victim</td>\n",
       "      <td>4</td>\n",
       "      <td>2</td>\n",
       "      <td>0</td>\n",
       "    </tr>\n",
       "  </tbody>\n",
       "</table>\n",
       "</div>"
      ],
      "text/plain": [
       "       REF_ID REPORT_DATE_RAW                 DATETIME     COUNTY   DECISION  \\\n",
       "0  1406424407     1/1/19 0:32  0019-01-01 00:32:00.000  Kosciusko  Screen In   \n",
       "1   490485216     1/1/19 7:16  0019-01-01 07:16:00.000       Lake  Screen In   \n",
       "2  1773822066    1/1/19 11:34  0019-01-01 11:34:00.000     Marion  Screen In   \n",
       "3     9124632    1/1/19 13:22  0019-01-01 13:22:00.000       Lake  Screen In   \n",
       "4  2067805478    1/1/19 18:41  0019-01-01 18:41:00.000     Ripley  Screen In   \n",
       "\n",
       "  RESPONSE_TIME        ASM_MALTREATMENT ASSESSMENT_DECISION  SUBSTANTIATED  \\\n",
       "0        5 days                 neglect           withdrawn              0   \n",
       "1      24 hours  neglect,physical abuse            accepted              1   \n",
       "2      24 hours                 neglect            accepted              0   \n",
       "3      24 hours                 neglect            accepted              0   \n",
       "4      24 hours  neglect,physical abuse            accepted              0   \n",
       "\n",
       "  PARTICIPANT  AGE  NUM_CASES  cluster  \n",
       "0      Victim   11          3        1  \n",
       "1      Victim    0          1        0  \n",
       "2      Victim    9          1        1  \n",
       "3      Victim    5          3        0  \n",
       "4      Victim    4          2        0  "
      ]
     },
     "execution_count": 111,
     "metadata": {},
     "output_type": "execute_result"
    }
   ],
   "source": [
    "dedupe_dcs['cluster'] = y_predicted\n",
    "dedupe_dcs.head()"
   ]
  },
  {
   "cell_type": "code",
   "execution_count": 125,
   "metadata": {},
   "outputs": [
    {
     "name": "stdout",
     "output_type": "stream",
     "text": [
      "(114152, 13)\n",
      "(101481, 13)\n"
     ]
    }
   ],
   "source": [
    "print(dedupe_dcs[dedupe_dcs.cluster == 0].shape)\n",
    "print(dedupe_dcs[dedupe_dcs.cluster == 1].shape)"
   ]
  },
  {
   "cell_type": "code",
   "execution_count": 112,
   "metadata": {},
   "outputs": [
    {
     "name": "stderr",
     "output_type": "stream",
     "text": [
      "No handles with labels found to put in legend.\n"
     ]
    },
    {
     "data": {
      "text/plain": [
       "<matplotlib.legend.Legend at 0x7ff91d38aed0>"
      ]
     },
     "execution_count": 112,
     "metadata": {},
     "output_type": "execute_result"
    },
    {
     "data": {
      "image/png": "[encoded data removed]",
      "text/plain": [
       "<Figure size 432x288 with 1 Axes>"
      ]
     },
     "metadata": {
      "needs_background": "light"
     },
     "output_type": "display_data"
    }
   ],
   "source": [
    "dedupe_dcs1 = dedupe_dcs[dedupe_dcs.cluster == 0]\n",
    "dedupe_dcs2 = dedupe_dcs[dedupe_dcs.cluster == 1]\n",
    "\n",
    "\n",
    "plt.scatter(dedupe_dcs1.AGE, dedupe_dcs1['NUM_CASES'], color='red')\n",
    "plt.scatter(dedupe_dcs2.AGE, dedupe_dcs2['NUM_CASES'], color='orange')\n",
    "\n",
    "\n",
    "\n",
    "plt.xlabel(\"Age\")\n",
    "plt.ylabel(\"Number of Cases Reported\")\n",
    "plt.locator_params(axis=\"both\", integer=True)\n",
    "plt.legend()"
   ]
  },
  {
   "cell_type": "code",
   "execution_count": 34,
   "metadata": {},
   "outputs": [],
   "source": [
    "k_range = range(1,10)\n",
    "sse = []\n",
    "for k in k_range:\n",
    "    km = KMeans(n_clusters=k)\n",
    "    km.fit(dedupe_dcs[['AGE', 'NUM_CASES']])\n",
    "    sse.append(km.inertia_)"
   ]
  },
  {
   "cell_type": "code",
   "execution_count": 35,
   "metadata": {},
   "outputs": [
    {
     "data": {
      "text/plain": [
       "[7420986.546487342,\n",
       " 2099606.9732800587,\n",
       " 1180645.5170085046,\n",
       " 894339.6863968559,\n",
       " 706184.288908832,\n",
       " 586747.0585685117,\n",
       " 482433.43229463696,\n",
       " 425716.6762506262,\n",
       " 372984.0454387169]"
      ]
     },
     "execution_count": 35,
     "metadata": {},
     "output_type": "execute_result"
    }
   ],
   "source": [
    "# sse = sum of squared error\n",
    "sse"
   ]
  },
  {
   "cell_type": "code",
   "execution_count": 36,
   "metadata": {},
   "outputs": [
    {
     "data": {
      "text/plain": [
       "[<matplotlib.lines.Line2D at 0x7fd8a1a25a50>]"
      ]
     },
     "execution_count": 36,
     "metadata": {},
     "output_type": "execute_result"
    },
    {
     "data": {
      "image/png": "[encoded data removed]",
      "text/plain": [
       "<Figure size 432x288 with 1 Axes>"
      ]
     },
     "metadata": {
      "needs_background": "light"
     },
     "output_type": "display_data"
    }
   ],
   "source": [
    "plt.xlabel(\"K\")\n",
    "plt.ylabel(\"Sum of Squared Error\")\n",
    "plt.plot(k_range, sse)"
   ]
  },
  {
   "cell_type": "markdown",
   "metadata": {},
   "source": []
  },
  {
   "cell_type": "code",
   "execution_count": null,
   "metadata": {},
   "outputs": [],
   "source": []
  },
  {
   "cell_type": "code",
   "execution_count": null,
   "metadata": {},
   "outputs": [],
   "source": []
  },
  {
   "cell_type": "code",
   "execution_count": null,
   "metadata": {},
   "outputs": [],
   "source": []
  },
  {
   "cell_type": "code",
   "execution_count": 62,
   "metadata": {},
   "outputs": [
    {
     "data": {
      "text/plain": [
       "(499019, 13)"
      ]
     },
     "execution_count": 62,
     "metadata": {},
     "output_type": "execute_result"
    }
   ],
   "source": [
    "#Add column NUM_MALTREATMENTS for number of times a particular REF_ID is reported\n",
    "exploded_df['NUM_MALTREATMENTS'] = exploded_df.groupby('REF_ID')['ASM_MALTREATMENT'].transform('nunique')\n",
    "\n",
    "exploded_df.shape"
   ]
  },
  {
   "cell_type": "code",
   "execution_count": 63,
   "metadata": {},
   "outputs": [],
   "source": [
    "#Add column NUM_CASES for number of times a particular REF_ID is reported\n",
    "exploded_df['NUM_CASES'] = dcs.groupby('REF_ID')['REF_ID'].transform('count')"
   ]
  },
  {
   "cell_type": "code",
   "execution_count": 64,
   "metadata": {},
   "outputs": [],
   "source": [
    "#De-dupe REF_ID\n",
    "dedupe_exploded_df = exploded_df.drop_duplicates(subset='REF_ID')"
   ]
  },
  {
   "cell_type": "code",
   "execution_count": 65,
   "metadata": {},
   "outputs": [
    {
     "data": {
      "text/plain": [
       "(215633, 13)"
      ]
     },
     "execution_count": 65,
     "metadata": {},
     "output_type": "execute_result"
    }
   ],
   "source": [
    "#De-dupe REF_ID\n",
    "dedupe_exploded_df = exploded_df.drop_duplicates(subset='REF_ID')\n",
    "\n",
    "dedupe_exploded_df.shape"
   ]
  },
  {
   "cell_type": "code",
   "execution_count": 66,
   "metadata": {},
   "outputs": [
    {
     "data": {
      "text/html": [
       "<div>\n",
       "<style scoped>\n",
       "    .dataframe tbody tr th:only-of-type {\n",
       "        vertical-align: middle;\n",
       "    }\n",
       "\n",
       "    .dataframe tbody tr th {\n",
       "        vertical-align: top;\n",
       "    }\n",
       "\n",
       "    .dataframe thead th {\n",
       "        text-align: right;\n",
       "    }\n",
       "</style>\n",
       "<table border=\"1\" class=\"dataframe\">\n",
       "  <thead>\n",
       "    <tr style=\"text-align: right;\">\n",
       "      <th></th>\n",
       "      <th>REF_ID</th>\n",
       "      <th>REPORT_DATE_RAW</th>\n",
       "      <th>DATETIME</th>\n",
       "      <th>COUNTY</th>\n",
       "      <th>DECISION</th>\n",
       "      <th>RESPONSE_TIME</th>\n",
       "      <th>ASM_MALTREATMENT</th>\n",
       "      <th>ASSESSMENT_DECISION</th>\n",
       "      <th>SUBSTANTIATED</th>\n",
       "      <th>PARTICIPANT</th>\n",
       "      <th>AGE</th>\n",
       "      <th>NUM_MALTREATMENTS</th>\n",
       "      <th>NUM_CASES</th>\n",
       "    </tr>\n",
       "  </thead>\n",
       "  <tbody>\n",
       "    <tr>\n",
       "      <th>4863</th>\n",
       "      <td>859782401</td>\n",
       "      <td>5/20/19 22:14</td>\n",
       "      <td>0019-05-20 22:14:00.000</td>\n",
       "      <td>Saint Joseph</td>\n",
       "      <td>Screen In</td>\n",
       "      <td>24 hours</td>\n",
       "      <td>neglect</td>\n",
       "      <td>accepted</td>\n",
       "      <td>0</td>\n",
       "      <td>Victim</td>\n",
       "      <td>16</td>\n",
       "      <td>3</td>\n",
       "      <td>30</td>\n",
       "    </tr>\n",
       "  </tbody>\n",
       "</table>\n",
       "</div>"
      ],
      "text/plain": [
       "         REF_ID REPORT_DATE_RAW                 DATETIME        COUNTY  \\\n",
       "4863  859782401   5/20/19 22:14  0019-05-20 22:14:00.000  Saint Joseph   \n",
       "\n",
       "       DECISION RESPONSE_TIME ASM_MALTREATMENT ASSESSMENT_DECISION  \\\n",
       "4863  Screen In      24 hours          neglect            accepted   \n",
       "\n",
       "      SUBSTANTIATED PARTICIPANT  AGE  NUM_MALTREATMENTS  NUM_CASES  \n",
       "4863              0      Victim   16                  3         30  "
      ]
     },
     "execution_count": 66,
     "metadata": {},
     "output_type": "execute_result"
    }
   ],
   "source": [
    "dedupe_exploded_df[dedupe_exploded_df['REF_ID'] == 859782401]"
   ]
  },
  {
   "cell_type": "code",
   "execution_count": 113,
   "metadata": {},
   "outputs": [],
   "source": [
    "c = dedupe_exploded_df[['AGE', 'NUM_CASES', 'NUM_MALTREATMENTS']]\n",
    "kmeans = KMeans(n_clusters=2)"
   ]
  },
  {
   "cell_type": "code",
   "execution_count": 114,
   "metadata": {},
   "outputs": [
    {
     "data": {
      "text/plain": [
       "array([1, 0, 1, ..., 1, 1, 0], dtype=int32)"
      ]
     },
     "execution_count": 114,
     "metadata": {},
     "output_type": "execute_result"
    }
   ],
   "source": [
    "y_predicted = kmeans.fit_predict(c)\n",
    "y_predicted"
   ]
  },
  {
   "cell_type": "code",
   "execution_count": 126,
   "metadata": {},
   "outputs": [
    {
     "name": "stderr",
     "output_type": "stream",
     "text": [
      "/Users/jaclynfink/opt/anaconda3/lib/python3.7/site-packages/ipykernel_launcher.py:1: SettingWithCopyWarning: \n",
      "A value is trying to be set on a copy of a slice from a DataFrame.\n",
      "Try using .loc[row_indexer,col_indexer] = value instead\n",
      "\n",
      "See the caveats in the documentation: https://pandas.pydata.org/pandas-docs/stable/user_guide/indexing.html#returning-a-view-versus-a-copy\n",
      "  \"\"\"Entry point for launching an IPython kernel.\n"
     ]
    }
   ],
   "source": [
    "dedupe_exploded_df['cluster'] = y_predicted"
   ]
  },
  {
   "cell_type": "code",
   "execution_count": 117,
   "metadata": {},
   "outputs": [
    {
     "name": "stderr",
     "output_type": "stream",
     "text": [
      "No handles with labels found to put in legend.\n"
     ]
    },
    {
     "data": {
      "text/plain": [
       "<matplotlib.legend.Legend at 0x7ff91ddc3950>"
      ]
     },
     "execution_count": 117,
     "metadata": {},
     "output_type": "execute_result"
    },
    {
     "data": {
      "image/png": "[encoded data removed]",
      "text/plain": [
       "<Figure size 432x288 with 1 Axes>"
      ]
     },
     "metadata": {
      "needs_background": "light"
     },
     "output_type": "display_data"
    }
   ],
   "source": [
    "dedupe_exploded_df1 = dedupe_exploded_df[dedupe_exploded_df.cluster == 0]\n",
    "dedupe_exploded_df2 = dedupe_exploded_df[dedupe_exploded_df.cluster == 1]\n",
    "\n",
    "\n",
    "\n",
    "plt.scatter(dedupe_exploded_df1.AGE, dedupe_exploded_df1['NUM_CASES'], color='red')\n",
    "plt.scatter(dedupe_exploded_df2.AGE, dedupe_exploded_df2['NUM_CASES'], color='orange')\n",
    "\n",
    "plt.xlabel(\"Age\")\n",
    "plt.ylabel(\"Number of Cases Reported\")\n",
    "plt.locator_params(axis=\"both\", integer=True)\n",
    "plt.legend()"
   ]
  },
  {
   "cell_type": "code",
   "execution_count": 118,
   "metadata": {},
   "outputs": [
    {
     "data": {
      "text/plain": [
       "AGE\n",
       "0    60341\n",
       "1     7686\n",
       "2     8292\n",
       "3     8519\n",
       "4     8874\n",
       "5     9837\n",
       "6    10603\n",
       "Name: cluster, dtype: int64"
      ]
     },
     "execution_count": 118,
     "metadata": {},
     "output_type": "execute_result"
    }
   ],
   "source": [
    "d1 = dedupe_exploded_df1.groupby('AGE')['cluster'].count()\n",
    "d1"
   ]
  },
  {
   "cell_type": "code",
   "execution_count": 119,
   "metadata": {},
   "outputs": [
    {
     "data": {
      "text/plain": [
       "AGE\n",
       "7     10199\n",
       "8     10042\n",
       "9     10042\n",
       "10     9821\n",
       "11     9768\n",
       "12     9754\n",
       "13     9484\n",
       "14     9116\n",
       "15     8747\n",
       "16     7769\n",
       "17     6474\n",
       "18      255\n",
       "19        8\n",
       "20        2\n",
       "Name: cluster, dtype: int64"
      ]
     },
     "execution_count": 119,
     "metadata": {},
     "output_type": "execute_result"
    }
   ],
   "source": [
    "d2 = dedupe_exploded_df2.groupby('AGE')['cluster'].count()\n",
    "d2"
   ]
  },
  {
   "cell_type": "code",
   "execution_count": null,
   "metadata": {},
   "outputs": [],
   "source": [
    "# County level analytics -- drug use in counties"
   ]
  }
 ],
 "metadata": {
  "kernelspec": {
   "display_name": "Python 3",
   "language": "python",
   "name": "python3"
  },
  "language_info": {
   "codemirror_mode": {
    "name": "ipython",
    "version": 3
   },
   "file_extension": ".py",
   "mimetype": "text/x-python",
   "name": "python",
   "nbconvert_exporter": "python",
   "pygments_lexer": "ipython3",
   "version": "3.7.4"
  }
 },
 "nbformat": 4,
 "nbformat_minor": 4
}
